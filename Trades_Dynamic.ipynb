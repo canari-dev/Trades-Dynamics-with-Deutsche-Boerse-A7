{
 "cells": [
  {
   "cell_type": "markdown",
   "metadata": {
    "collapsed": true,
    "pycharm": {
     "name": "#%% md\n"
    }
   },
   "source": [
    "# Pierre VAMBENEPE (Feb-2021)\n",
    "# Deutsche Boerse A7 usage example for equity options\n"
   ]
  },
  {
   "cell_type": "markdown",
   "source": [
    "**Identifying clusters of trades with similar characteristics in order to detect trades dynamic**\n",
    "\n",
    "Abstract :\n",
    "It is often difficult to know what's going on in the Equity Options market.\n",
    "\n",
    "But it is especially important to detect even small trading patterns because it's easy to miss new information\n",
    "which would be relevant for options pricing. Trades can reveal that something is going on.\n",
    "\n",
    "One important aspect of a trade analysis is the interest behind it. Whether the aggressor was the buyer or the seller,\n",
    "it  doesn't tell us who was actually crossing the spread to make the trade happen (if any). To figure out if the interest\n",
    "was the buyer or the seller and how aggressive it was, we will first calibrate a volatility surface in order to get\n",
    "a theoretical bid and offer price, undisturbed by local (ie. strike specific) microstructure action. The aggressivity\n",
    "parameter is defined as such :\n",
    "\n",
    "aggressivity = min(1, max(-1, (traded_price - mid_theo) / half_theo_spread))\n",
    "\n",
    "NB : aggressivity is negative for selling interest and positive for buying ones.\n",
    "\n",
    "This theoretical price will then be used in conjunction with the vega of the trade to determine the intensity of a\n",
    "a trade. It is defined as :\n",
    "\n",
    "intensity = vega * aggressivity\n",
    "\n",
    "This metrics among others will then be used to identify clusters of similar trades. These clusters will in turn be sorted\n",
    "by vega_aggressivity in order to be able to report on the most remarkable trade action in the period.\n"
   ],
   "metadata": {
    "collapsed": false
   }
  },
  {
   "cell_type": "code",
   "execution_count": null,
   "outputs": [],
   "source": [
    "#First some global setting :\n",
    "\n",
    "#NB: This program has been developed on Pycharm Professional for windows 10\n",
    "#The Python exec is installed as a specific miniconda env running Python 3.6 with the following extensions\n",
    "\n",
    "# Note on Pycharm : it was for me necessary to install the following kernel on conda in order to let Jyputer Notebook execute :\n",
    "# conda activate myenv\n",
    "# python -m ipykernel install --user --name myenv --display-name \"Python (myenv)\n",
    "# cf https://youtrack.jetbrains.com/issue/PY-36913\n",
    "\n",
    "# Here are the needed external library\n",
    "import numpy as np\n",
    "import pandas as pd\n",
    "import QuantLib as ql  #complete set of tools for derivatives pricing and calendar manipulation with exchanges holidays\n",
    "import math\n",
    "import datetime\n",
    "import matplotlib.pyplot as plt\n",
    "import requests   #in order to retrieve data from A7\n",
    "import warnings\n",
    "\n",
    "pd.set_option('display.width', 200)\n",
    "pd.set_option('display.max_columns', 30)\n",
    "\n",
    "#indicate here the folders where you want the quotes and trades data (folder1) and the calibration result with \"fleshed\" trades (folder 2)\n",
    "folder1 = '/Users/pvamb/A7/processed'\n",
    "folder2 = '/Users/pvamb/A7/parameters'\n"
   ],
   "metadata": {
    "collapsed": false,
    "pycharm": {
     "name": "#%%\n"
    }
   }
  },
  {
   "cell_type": "code",
   "execution_count": null,
   "outputs": [],
   "source": [
    "# We are now going to import specific libraries made available in this git\n",
    "\n",
    "from DateAndTime import DateAndTime\n",
    "# uses QuantLib to calculate numbers of business day between dates and generate expi dates\n",
    "\n",
    "from PricingAndCalibration import Pricing\n",
    "# uses Quantlib to price European and American options with continuous dividend yield and the associated greeks\n",
    "\n",
    "from PricingAndCalibration import FittingSpline\n",
    "# uses scipy UnivariateSpline to fit a 2nd degree spline through the implicit vol of bid and ask quotes\n",
    "\n",
    "from TradeFlesh import TradeFlesh\n",
    "# enrich trades description with vega_aggressivity measure and provide graphic representations of trading patterns\n",
    "\n",
    "from Clustering import Clustering\n",
    "# uses sklearn AgglomerativeClustering in order to identify clusters of similar trades, potzentially steming from the same agent"
   ],
   "metadata": {
    "collapsed": false,
    "pycharm": {
     "name": "#%%\n"
    }
   }
  },
  {
   "cell_type": "markdown",
   "source": [
    "**We will first retrieve the orderbook data from A7**"
   ],
   "metadata": {
    "collapsed": false,
    "pycharm": {
     "name": "#%% md\n"
    }
   }
  },
  {
   "cell_type": "code",
   "execution_count": null,
   "outputs": [],
   "source": [
    "from SetUp import *\n",
    "from DateAndTime import DateAndTime\n",
    "\n",
    "DT = DateAndTime(from_date = '2021-01-04', until_date = '2021-01-05')\n",
    "\n",
    "owner = 'pierrev'\n",
    "proxies = {\n",
    "    \"http\": \"\",  # Enter http Proxy if needed\",\n",
    "    \"https\": \"\"  # Enter https Proxy if needed\",\n",
    "}\n",
    "\n",
    "API_TOKEN = \"Bearer \" + \"place your A7 token key here\"\n",
    "\n",
    "# algo = 'minsize_level'\n",
    "algo = 'top_level'\n",
    "\n",
    "\n",
    "udl = 'DAI'\n",
    "isin = 'DE0007100000'\n",
    "min_lots = 37 #(1/20th of block trade size)\n",
    "# min_lots can be set to whatever level but if you want to refer to block trade size, here is where to find it :\n",
    "# https://www.eurex.com/resource/blob/1637254/e8d6c53461a06ae89c7f38c2222da612/data/contract_specifications_en_ab-2021_01_18.pdf\n",
    "# page 246-xxx\n",
    "\n",
    "#filter settings to speed up the process\n",
    "# for 1 year maturity option with an adjustment in sqrt(T)\n",
    "moneyness_range_call = (-0.4, 0.7)\n",
    "moneyness_range_put = (-0.7, 0.4)\n",
    "\n",
    "a = datetime.datetime.now()  #time check\n",
    "\n",
    "try:\n",
    "    df_orderbook = pd.read_pickle(folder1 + '/Quotes_' + udl + '.pkl')\n",
    "except:\n",
    "    df_orderbook = pd.DataFrame()\n",
    "\n",
    "try:\n",
    "    df_trades = pd.read_pickle(folder1 + '/Trades_' + udl + '.pkl')\n",
    "except:\n",
    "    df_trades = pd.DataFrame()\n",
    "\n",
    "\n",
    "done_already1 = [elt.strftime('%Y%m%d') for elt in set([elt.date() for elt in df_orderbook.index])]\n",
    "done_already2 = [elt.strftime('%Y%m%d') for elt in set([elt.date() for elt in df_trades.index])]\n",
    "\n",
    "for reference_date in [elt for elt in DT.dates_list if (elt not in done_already1 + done_already2) and (pd.Timestamp(elt) > df_orderbook.index.min())]:\n",
    "    print(reference_date)\n",
    "\n",
    "    try:\n",
    "        #stock\n",
    "        url = 'https://a7.deutsche-boerse.com/api/v1/rdi/XETR/{}?mode=detailed'.format(reference_date)\n",
    "        r = requests.get(url=url,  headers={'Authorization': API_TOKEN}, proxies = proxies)\n",
    "        res = r.json()\n",
    "\n",
    "        lst_ms = np.array([x['MarketSegment'] for x in res['MarketSegments']])\n",
    "        indx = np.where(lst_ms==isin)[0][0]\n",
    "        segmentIDudl = res['MarketSegments'][indx]['MarketSegmentID']\n",
    "        print('Market Segment for the underlying {} :: {}'.format(udl, str(segmentIDudl)))\n",
    "\n",
    "        url = 'https://a7.deutsche-boerse.com/api/v1/rdi/XETR/{}/{}?mode=detailed'.format(reference_date, segmentIDudl)\n",
    "        r = requests.get(url=url, headers={'Authorization': API_TOKEN}, proxies = proxies)\n",
    "        res_u = r.json()\n",
    "        security = res_u['Securities'][0]\n",
    "\n",
    "\n",
    "        #Options\n",
    "\n",
    "        url = 'https://a7.deutsche-boerse.com/api/v1/rdi/XEUR/{}?mode=detailed'.format(reference_date)\n",
    "        r = requests.get(url = url,  headers={'Authorization': API_TOKEN}, proxies = proxies)\n",
    "        res = r.json()\n",
    "\n",
    "        lst_ms = np.array([x['MarketSegment'] for x in res['MarketSegments']])\n",
    "        indx = np.where(lst_ms==udl)[0][0]\n",
    "        segmentIDopt = res['MarketSegments'][indx]['MarketSegmentID']\n",
    "        print('Market Segment for options on {} :: {}'.format(udl, str(segmentIDopt)))\n",
    "\n",
    "        url = 'https://a7.deutsche-boerse.com/api/v1/rdi/XEUR/{}/{}?mode=detailed'.format(reference_date, segmentIDopt)\n",
    "        r = requests.get(url = url,  headers={'Authorization': API_TOKEN}, proxies = proxies)\n",
    "        res_i = r.json()\n",
    "\n",
    "        b = datetime.datetime.now()\n",
    "        print(b-a)\n",
    "        a = b\n",
    "\n",
    "\n",
    "        # retrieves quotes\n",
    "\n",
    "        selected_fields = ['SecurityDesc', 'SecurityID']\n",
    "        selected_fields_desc = ['PutOrCall', 'StrikePrice', 'ContractMultiplier', 'ExerciseStyle']\n",
    "\n",
    "        raw = pd.DataFrame()\n",
    "        matulist = sorted(list(set([str(elt['MaturityDate']) for elt in res_i['Securities'] if elt['MaturityDate'] != None])))\n",
    "        for matu in ['UDL'] + matulist:\n",
    "            print('    ' + matu)\n",
    "\n",
    "            df = pd.DataFrame(columns=['SegmentID'] + selected_fields + selected_fields_desc)\n",
    "\n",
    "            if matu == 'UDL':\n",
    "                df.loc[0] = [segmentIDudl, security['SecurityDesc'], security['SecurityID'], 'S', None, 1, None]\n",
    "                df['in_range'] = True\n",
    "            else:\n",
    "                i = 0\n",
    "                for x in res_i['Securities']:\n",
    "                    if (str(x['MaturityDate']) == matu) and (x['SecurityType'] == 'OPT'):\n",
    "                        df.loc[i] = [segmentIDopt] + [x[elt] for elt in selected_fields] + \\\n",
    "                                    [x['DerivativesDescriptorGroup']['SimpleInstrumentDescriptorGroup'][elt] for elt in selected_fields_desc]\n",
    "                        i += 1\n",
    "\n",
    "                df.sort_values(by=['StrikePrice', 'PutOrCall'], ascending = [True, True], inplace=True)\n",
    "\n",
    "                TTM = DT.time_between(pd.Timestamp(reference_date), pd.Timestamp(matu))\n",
    "                df['moneyness_T'] = df.apply(lambda opt: math.log(opt.StrikePrice / FVU) / (max(3.0 / 12.0, TTM) ** 0.5), axis='columns')\n",
    "                # the forward ratio is unknown at this stage so we take a high dividend rate of 8% as instead, hence the 0.92\n",
    "                df['moneyness_T_w_div'] = df.apply(lambda opt: math.log(opt.StrikePrice / FVU*0.92) / (max(3.0 / 12.0, TTM) ** 0.5), axis='columns')\n",
    "                df['in_range'] = df.apply(lambda opt: (opt.moneyness_T_w_div > moneyness_range_call[0]) and (opt.moneyness_T < moneyness_range_call[1])  \\\n",
    "                        if opt.PutOrCall == '1' else \\\n",
    "                        (opt.moneyness_T_w_div > moneyness_range_put[0]) and (opt.moneyness_T < moneyness_range_put[1]), axis='columns')\n",
    "\n",
    "                df = df.loc[df.in_range]\n",
    "\n",
    "            for index, opt in df.iterrows():\n",
    "                # print(opt)\n",
    "\n",
    "                if opt['PutOrCall'] == 'S':\n",
    "                    market = 'XETR'\n",
    "                    url = 'https://a7.deutsche-boerse.com/api/v1/algo/{}/top_level/'.format(owner)\n",
    "                    url = url+\"run?marketId={}&date={}&marketSegmentId={}&securityId={}\".format(market, reference_date, opt['SegmentID'], opt['SecurityID'])\n",
    "\n",
    "                else:\n",
    "                    market = 'XEUR'\n",
    "                    if algo == 'top_level':\n",
    "                        url = 'https://a7.deutsche-boerse.com/api/v1/algo/{}/top_level/'.format(owner)\n",
    "                        url = url+\"run?marketId={}&date={}&marketSegmentId={}&securityId={}\".format(market, reference_date, opt['SegmentID'], opt['SecurityID'])\n",
    "                    elif algo == 'minsize_level':\n",
    "                        url = 'https://a7.deutsche-boerse.com/api/v1/algo/{}/minsize_level/'.format(owner)\n",
    "                        url = url+\"run?marketId={}&date={}&marketSegmentId={}&securityId={}&aggr=1&min_lots={}\".format(market, reference_date, opt['SegmentID'], opt['SecurityID'], min_lots)\n",
    "\n",
    "                r = requests.get(url=url,  headers={'Authorization': API_TOKEN}, proxies = proxies)\n",
    "                res = r.json()\n",
    "\n",
    "                if type(res) == list:\n",
    "                    bid_ask_sampled = {}\n",
    "                    for i, bidask in enumerate(['bid', 'ask']):\n",
    "                            df_price = pd.DataFrame(index=res[0]['series'][i]['content']['ts'])\n",
    "                            df_price = df_price.assign(pv=res[0]['series'][i]['content']['price'])\n",
    "\n",
    "                            df_price = df_price.dropna()\n",
    "                            if df_price.shape[0] > 0:\n",
    "                                df_price['pv'] = df_price['pv'].astype(float)/1e3\n",
    "                                df_price.columns = [bidask]\n",
    "                                df_price.index = df_price.index.astype(np.int64)\n",
    "                                df_price.index = pd.to_datetime(df_price.index)\n",
    "\n",
    "                                for elt in selected_fields_desc:\n",
    "                                    df_price[elt] = opt[elt]\n",
    "                                df_price['matu'] = matu\n",
    "\n",
    "                                index = pd.date_range(df_price.index[0].round('T'), df_price.index[-1], freq='1T')\n",
    "                                df_price = df_price.reindex(index, method='ffill')\n",
    "\n",
    "                                bid_ask_sampled[bidask] = df_price\n",
    "\n",
    "                    if len(bid_ask_sampled) == 2:\n",
    "                        df_opt = pd.merge(bid_ask_sampled['bid'][['bid']], bid_ask_sampled['ask'], how='inner', left_index=True, right_index=True)\n",
    "                        if opt['PutOrCall'] == 'S':\n",
    "                            FVU = (df_opt.bid.median() + df_opt.ask.median())/2\n",
    "                        # df_opt['matu'] = matu\n",
    "                        df_orderbook = df_orderbook.append(df_opt)\n",
    "\n",
    "        b = datetime.datetime.now()\n",
    "        print(b-a)\n",
    "        a = b\n",
    "\n",
    "        df_orderbook.to_pickle(folder1 + '/Quotes_' + udl + '.pkl')\n",
    "\n",
    "        b = datetime.datetime.now()\n",
    "        print(b-a)\n",
    "        a = b\n",
    "\n",
    "\n",
    "        #retrieve trades\n",
    "\n",
    "        selected_fields = ['SecurityDesc', 'SecurityID']\n",
    "        selected_fields_desc = ['PutOrCall', 'StrikePrice', 'ContractMultiplier', 'ExerciseStyle']\n",
    "\n",
    "        for matu in matulist:\n",
    "\n",
    "            df = pd.DataFrame(columns=['SegmentID'] + selected_fields + selected_fields_desc)\n",
    "            i = 0\n",
    "            for x in res_i['Securities']:\n",
    "                if (str(x['MaturityDate']) == matu) and (x['SecurityType'] == 'OPT'):\n",
    "                    df.loc[i] = [segmentIDopt] + [x[elt] for elt in selected_fields] + \\\n",
    "                                [x['DerivativesDescriptorGroup']['SimpleInstrumentDescriptorGroup'][elt] for elt in selected_fields_desc]\n",
    "                    i += 1\n",
    "\n",
    "            for index, opt in df.iterrows():\n",
    "                # print(opt['SecurityDesc'])\n",
    "\n",
    "                url = 'https://a7.deutsche-boerse.com/api/v1/algo/{}/trades_PVA/'.format(owner)\n",
    "\n",
    "                market = 'XEUR'\n",
    "                url = url+\"run?marketId={}&date={}&marketSegmentId={}&securityId={}\".format(market, reference_date, opt['SegmentID'], opt['SecurityID'])\n",
    "                r = requests.get(url=url,  headers={'Authorization': API_TOKEN}, proxies = proxies)\n",
    "                res = r.json()\n",
    "\n",
    "                if (type(res) == list) and (len(res[0]['series'][0]['content']['time'])>0):\n",
    "                    df_opt = pd.DataFrame.from_dict(res[0]['series'][0]['content'])\n",
    "                    df_opt.index = df_opt.index.astype(np.int64)\n",
    "                    df_opt.index = pd.to_datetime(df_opt.index)\n",
    "                    for field in ['time', 'priots', 'bidentry', 'askentry']:\n",
    "                        df_opt[field] = df_opt[field].astype(np.int64)\n",
    "                        df_opt[field] = pd.to_datetime(df_opt[field])\n",
    "                    df_opt.set_index('time', inplace=True)\n",
    "                    # df_field = df_field.dropna()\n",
    "\n",
    "                    df_opt[selected_fields_desc] = opt[selected_fields_desc]\n",
    "\n",
    "                    df_opt['matu'] = matu\n",
    "                    df_opt['SegmentID'] = opt['SegmentID']\n",
    "                    df_opt['SecurityID'] = opt['SecurityID']\n",
    "                    df_trades = df_trades.append(df_opt)\n",
    "\n",
    "        df_trades.to_pickle(folder1 + '/Trades_' + udl + '.pkl')\n",
    "\n",
    "        b = datetime.datetime.now()\n",
    "        print(b-a)\n",
    "        a = b\n",
    "\n",
    "    except:\n",
    "        print('fail for :' + reference_date)\n"
   ],
   "metadata": {
    "collapsed": false,
    "pycharm": {
     "name": "#%%\n"
    }
   }
  },
  {
   "cell_type": "markdown",
   "source": [
    "    udl = 'DBK'\n",
    "    FS = FittingSpline(udl)\n",
    "    FS.fit_all()\n",
    "\n",
    "    done_already = [elt.strftime('%Y%m%d') for elt in set([elt.date() for elt in self.df_params.index.get_level_values(0)])]\n",
    "\n",
    "    for reference_date in [elt for elt in self.dates_list if (elt not in done_already)]:\n",
    "        print(reference_date)\n",
    "        matulist = [elt for elt in self.get_matu_list(reference_date) if elt != reference_date]\n",
    "\n",
    "        for matu in matulist:\n",
    "            print('   ' + matu)\n",
    "\n",
    "            #ini_day intializies the dataframe and sets the starting implicit vol flat at 30% if it is the first day\n",
    "            FS.ini_day(reference_date, matu)\n",
    "\n",
    "            #fit_day starts a process of fitting the vol curve every 5 minutes allong with the Fwd ratio (dividend + repo)\n",
    "            FS.fit_day()\n",
    "\n",
    "        self.df_params.to_pickle(folder2 + '/Params_' + self.udl + '.pkl')"
   ],
   "metadata": {
    "collapsed": false
   }
  },
  {
   "cell_type": "markdown",
   "source": [
    "Congratulations, you have created a parameters dataframe with the fitted spline curve for the bid and ask implicit vol\n"
   ],
   "metadata": {
    "collapsed": false
   }
  },
  {
   "cell_type": "code",
   "execution_count": null,
   "outputs": [],
   "source": [
    "#Let's now graph what we have done :\n",
    "FS.graph(\"20210105\", \"20210319\")"
   ],
   "metadata": {
    "collapsed": false,
    "pycharm": {
     "name": "#%%\n"
    }
   }
  },
  {
   "cell_type": "markdown",
   "source": [
    "# We will now use the calibration to determine the aggressivity factor for each trade :\n",
    "TF = TradeFlesh(udl)\n",
    "TF.pct_aggressivity()\n",
    "# The result is saved in the FleshedTrades file in folder2\n",
    "\n",
    "# ...and get a view of the trades to .\n",
    "TF.graph_aggressivity('20210105')"
   ],
   "metadata": {
    "collapsed": false,
    "pycharm": {
     "name": "#%% md\n"
    }
   }
  },
  {
   "cell_type": "code",
   "execution_count": null,
   "outputs": [],
   "source": [
    "# We will now calculate the intensity of the trades then aggregate them over 1 minutes intervals.\n",
    "TF.get_intensity()\n",
    "# We can now observe the meaningfull trades, that is those which are large and for which one party has crossed a significant part of the spread.\n",
    "TF.graph_sensitivity('vega', '20190710')"
   ],
   "metadata": {
    "collapsed": false,
    "pycharm": {
     "name": "#%%\n"
    }
   }
  },
  {
   "cell_type": "code",
   "execution_count": null,
   "outputs": [],
   "source": [
    "# A high intensity trades may be meaningfull but a bunch of similar ones with similar characteritic are even more so.\n",
    "# They may may point to an agent who is either informed or with a large size to trade and help anticipate future parameters shift.\n",
    "C = Clustering(udl)\n",
    "C.prepare_data(with_graph = True)\n",
    "# the first graph shows the hierarchical clustering. We define a cluster as a set whose max distance is less than 5 times it's distance to to next cluster\n",
    "# The distance refered to here is a\n",
    "\n",
    "C.display_clusters(5)\n",
    "TF.graph_aggressivity('20210105', C.trades(0))"
   ],
   "metadata": {
    "collapsed": false,
    "pycharm": {
     "name": "#%%\n"
    }
   }
  }
 ],
 "metadata": {
  "kernelspec": {
   "display_name": "Python 3",
   "language": "python",
   "name": "python3"
  },
  "language_info": {
   "codemirror_mode": {
    "name": "ipython",
    "version": 2
   },
   "file_extension": ".py",
   "mimetype": "text/x-python",
   "name": "python",
   "nbconvert_exporter": "python",
   "pygments_lexer": "ipython2",
   "version": "2.7.6"
  }
 },
 "nbformat": 4,
 "nbformat_minor": 0
}